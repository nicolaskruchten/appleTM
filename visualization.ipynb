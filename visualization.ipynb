{
 "cells": [
  {
   "cell_type": "code",
   "execution_count": 144,
   "id": "635481fa-8696-4f70-89ba-5f0e53a7f809",
   "metadata": {},
   "outputs": [],
   "source": [
    "import pandas as pd\n",
    "import re\n",
    "from collections import Counter\n",
    "import networkx as nx\n",
    "import math\n",
    "from ipysigma import Sigma\n",
    "import fileinput"
   ]
  },
  {
   "cell_type": "code",
   "execution_count": 145,
   "id": "488047fc-a332-4fb0-895f-8c709f426b39",
   "metadata": {},
   "outputs": [],
   "source": [
    "df = pd.read_csv(\"trademarks.csv\")"
   ]
  },
  {
   "cell_type": "code",
   "execution_count": 146,
   "id": "c65882b5-b0be-4ac6-b477-3fefb8f73ad0",
   "metadata": {},
   "outputs": [],
   "source": [
    "trademarks = df.trademark.to_list()"
   ]
  },
  {
   "cell_type": "code",
   "execution_count": 147,
   "id": "a56fc2e9-351f-47d1-b955-3b1c905dd13f",
   "metadata": {},
   "outputs": [],
   "source": [
    "trademarks += [\"iPhone Pro\", \"iPhone Pro Max\", \"iPhone mini\", \"iPhone Plus\", \"iPhone SE\", \"iOS\"]"
   ]
  },
  {
   "cell_type": "code",
   "execution_count": 148,
   "id": "6ddc81f6-6557-4fa1-858c-1700f89fd4d8",
   "metadata": {},
   "outputs": [],
   "source": [
    "cleaned = dict()\n",
    "fragments = Counter()\n",
    "for t in trademarks:\n",
    "    bad = False\n",
    "    for ex in [\"logo\", \"works\", \"@\", \"symbol\"]:\n",
    "        bad |= ex in t.lower()\n",
    "    if not bad:\n",
    "        t = t.replace(\"+\", \"Plus\")\n",
    "        t = t.replace(\"-\", \"\")\n",
    "        result = []\n",
    "        for x in re.sub( r\"([A-Z])\", r\" \\1\", t).split():\n",
    "            if len(result) > 0 and len(x) == 1 and result[-1][-1].upper() == result[-1][-1]:\n",
    "                result[-1] += x\n",
    "            else:\n",
    "                result.append(x)\n",
    "        if result[0] == \"OSX\":\n",
    "            result = [\"OS\", \"X\"]\n",
    "        if result[0][0] == \"X\":\n",
    "            result = [\"X\", result[0][1:]]\n",
    "        result = [r.lower() for r in result]\n",
    "        plurals = [\"pods\", \"clips\", \"photos\", \"messages\", \"books\"]\n",
    "        result = [r if r not in plurals else r[:-1] for r in result]\n",
    "        if len(result) > 1:\n",
    "            cleaned[t] = result\n",
    "            fragments.update(result)"
   ]
  },
  {
   "cell_type": "code",
   "execution_count": 149,
   "id": "162e3400-e638-4182-99cc-2e2d502bfac7",
   "metadata": {},
   "outputs": [],
   "source": [
    "cleaned2 = dict()\n",
    "fragments2 = Counter()\n",
    "for name, words in cleaned.items():\n",
    "    ok = False\n",
    "    for w in words:\n",
    "        ok |= fragments[w] > 1\n",
    "    if ok:\n",
    "        cleaned2[name] = words\n",
    "        fragments2.update(words)"
   ]
  },
  {
   "cell_type": "code",
   "execution_count": 150,
   "id": "538d197e-2693-4d2c-8ae5-f564b5c143e9",
   "metadata": {},
   "outputs": [],
   "source": [
    "frag2id = {w:i for i, w in enumerate(fragments2.keys())}"
   ]
  },
  {
   "cell_type": "code",
   "execution_count": 151,
   "id": "40360a16-e730-4258-a8a8-74f973839bf9",
   "metadata": {},
   "outputs": [],
   "source": [
    "G = nx.DiGraph()\n",
    "for w, i in frag2id.items():\n",
    "    G.add_node(i, label=w, size=fragments2[w])\n",
    "\n",
    "weighted_edges = Counter()\n",
    "for name, words in cleaned2.items():\n",
    "    prev = None\n",
    "    for w in words:\n",
    "        if prev:\n",
    "            weighted_edges.update([(prev,w)])\n",
    "        prev = w\n",
    "\n",
    "for (source, target), count in weighted_edges.items():\n",
    "    G.add_edge(frag2id[source], frag2id[target])"
   ]
  },
  {
   "cell_type": "code",
   "execution_count": 153,
   "id": "8bd0ba51-1adf-4f51-94e1-7db53bc0950c",
   "metadata": {},
   "outputs": [],
   "source": [
    "Sigma.write_html(G, path=\"index.html\", node_size=G.degree, node_color=G.out_degree, start_layout=5, hide_info_panel=True, \n",
    "      hide_search=True, default_edge_size=1.5, node_color_gradient='Plasma', fullscreen=True)\n",
    "\n",
    "\n",
    "with fileinput.FileInput(\"index.html\", inplace=True, backup='.bak') as file:\n",
    "    for line in file:\n",
    "        print(\n",
    "            line\n",
    "            .replace(\"<body>\", \"<style>.ipysigma-left-panel, .ipysigma-right-panel {display: none;}</style>\"+\n",
    "                     '''<div style=\"position: absolute; left: 25px; top: 5px; z-index: 100; font-family: Arial;\">\n",
    "                     <h2>How Apple Names Things</h2>\n",
    "                     <p>by <a href=\"https://nicolas.kruchten.com/\">Nicolas Kruchten</a> using <a href=\"https://www.apple.com/legal/intellectual-property/trademark/appletmlist.html\">Apple trademark data</a>\n",
    "                     </p>\n",
    "                     </div>'''+\n",
    "                     \"<body>\")\n",
    "            .replace(\"IPyWidget export\", \"How Apple Names Things\")\n",
    "            , end='')\n"
   ]
  },
  {
   "cell_type": "code",
   "execution_count": null,
   "id": "1ca02155-c9a4-41a4-8575-a6006cb77d94",
   "metadata": {},
   "outputs": [],
   "source": []
  }
 ],
 "metadata": {
  "kernelspec": {
   "display_name": "Python 3 (ipykernel)",
   "language": "python",
   "name": "python3"
  },
  "language_info": {
   "codemirror_mode": {
    "name": "ipython",
    "version": 3
   },
   "file_extension": ".py",
   "mimetype": "text/x-python",
   "name": "python",
   "nbconvert_exporter": "python",
   "pygments_lexer": "ipython3",
   "version": "3.9.7"
  }
 },
 "nbformat": 4,
 "nbformat_minor": 5
}
